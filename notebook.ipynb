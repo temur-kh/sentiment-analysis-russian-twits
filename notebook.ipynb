{
 "cells": [
  {
   "cell_type": "markdown",
   "metadata": {
    "colab_type": "text",
    "id": "SuFIEwV_SpId"
   },
   "source": [
    "# Задача классификации тональности текста"
   ]
  },
  {
   "cell_type": "code",
   "execution_count": 0,
   "metadata": {
    "colab": {},
    "colab_type": "code",
    "id": "jBVuTPgUKxwM"
   },
   "outputs": [],
   "source": [
    "!pip install deeppavlov\n",
    "!pip install -U scikit-learn"
   ]
  },
  {
   "cell_type": "code",
   "execution_count": 0,
   "metadata": {
    "colab": {},
    "colab_type": "code",
    "id": "VIRuhKyUY9uk"
   },
   "outputs": [],
   "source": [
    "from sklearn.feature_extraction.text import TfidfVectorizer\n",
    "from nltk.corpus import stopwords\n",
    "from nltk import word_tokenize, sent_tokenize\n",
    "import pandas as pd\n",
    "import numpy as np\n",
    "from sklearn.model_selection import train_test_split\n",
    "from collections import defaultdict\n",
    "from sklearn.linear_model import LogisticRegression\n",
    "from sklearn.preprocessing import LabelEncoder\n",
    "from sklearn.metrics import accuracy_score, classification_report\n",
    "import json\n",
    "\n",
    "from __future__ import division\n",
    "from collections import Counter\n",
    "import numba as nb\n",
    "import re, nltk\n",
    "\n",
    "import os"
   ]
  },
  {
   "cell_type": "code",
   "execution_count": 3,
   "metadata": {
    "colab": {
     "base_uri": "https://localhost:8080/",
     "height": 102
    },
    "colab_type": "code",
    "id": "k10rNmdNe468",
    "outputId": "3f48520c-0bd4-4837-934c-8fc19efd34f8"
   },
   "outputs": [
    {
     "name": "stdout",
     "output_type": "stream",
     "text": [
      "[nltk_data] Downloading package punkt to /root/nltk_data...\n",
      "[nltk_data]   Unzipping tokenizers/punkt.zip.\n",
      "[nltk_data] Downloading package stopwords to /root/nltk_data...\n",
      "[nltk_data]   Unzipping corpora/stopwords.zip.\n"
     ]
    },
    {
     "data": {
      "text/plain": [
       "True"
      ]
     },
     "execution_count": 3,
     "metadata": {
      "tags": []
     },
     "output_type": "execute_result"
    }
   ],
   "source": [
    "nltk.download('punkt')\n",
    "nltk.download('stopwords')"
   ]
  },
  {
   "cell_type": "markdown",
   "metadata": {
    "colab_type": "text",
    "id": "lQyciXmRaR7F"
   },
   "source": [
    "## Загрузка данных\n",
    "Если вы используете Google Colab, предварительно загрузите файл dataset_sentiment.json в файлы доступные ноутбуку."
   ]
  },
  {
   "cell_type": "code",
   "execution_count": 0,
   "metadata": {
    "colab": {},
    "colab_type": "code",
    "id": "2EDHWOISaMFL"
   },
   "outputs": [],
   "source": [
    "with open('dataset_sentiment.json') as f:\n",
    "    raw_data = json.load(f)"
   ]
  },
  {
   "cell_type": "code",
   "execution_count": 0,
   "metadata": {
    "colab": {},
    "colab_type": "code",
    "id": "iIRgrNfpaMCK"
   },
   "outputs": [],
   "source": [
    "texts, sents = [raw['input'] for raw in raw_data], [raw['payload'].split('_')[0] for raw in raw_data]\n",
    "raw_df = pd.DataFrame.from_dict({'text': texts, 'sentiment': sents})"
   ]
  },
  {
   "cell_type": "code",
   "execution_count": 6,
   "metadata": {
    "colab": {
     "base_uri": "https://localhost:8080/",
     "height": 427
    },
    "colab_type": "code",
    "id": "AZAwdNPGaMAH",
    "outputId": "fc227f4b-cde1-427b-b8a3-b2359d534ae5"
   },
   "outputs": [
    {
     "data": {
      "text/html": [
       "<div>\n",
       "<style scoped>\n",
       "    .dataframe tbody tr th:only-of-type {\n",
       "        vertical-align: middle;\n",
       "    }\n",
       "\n",
       "    .dataframe tbody tr th {\n",
       "        vertical-align: top;\n",
       "    }\n",
       "\n",
       "    .dataframe thead th {\n",
       "        text-align: right;\n",
       "    }\n",
       "</style>\n",
       "<table border=\"1\" class=\"dataframe\">\n",
       "  <thead>\n",
       "    <tr style=\"text-align: right;\">\n",
       "      <th></th>\n",
       "      <th>sentiment</th>\n",
       "      <th>text</th>\n",
       "    </tr>\n",
       "  </thead>\n",
       "  <tbody>\n",
       "    <tr>\n",
       "      <th>0</th>\n",
       "      <td>neutral</td>\n",
       "      <td>Предлагаем Вашему вниманию туры в ОАЭ с вылетом 3 мая Вылет: из Санкт-Петербурга Перелет: АК Россия (группа Аэрофлот) Продолжительность: на 3 ночи Цена от 18302 руб!!!</td>\n",
       "    </tr>\n",
       "    <tr>\n",
       "      <th>1</th>\n",
       "      <td>positive</td>\n",
       "      <td>Valter Lekhman shared a memory. Valter В 2012 г, когда я переезжал на Бали , в день моего отъезда в журнале \"Аэрофлот\" вышла статья с таким вот заголовком )) думаю это знак и у меня здесь все получится!!!</td>\n",
       "    </tr>\n",
       "    <tr>\n",
       "      <th>2</th>\n",
       "      <td>positive</td>\n",
       "      <td>А я новую ночь превращаю в рассвет</td>\n",
       "    </tr>\n",
       "    <tr>\n",
       "      <th>3</th>\n",
       "      <td>neutral</td>\n",
       "      <td>Предлагаем вашему вниманию туры в Прагу! Перелет: АК Россия (группа Аэрофлот) Гарантированные номера в лучших отелях 3-5*… 23.03 продолжительность от 3 ночей, цена от 22 068 руб. Спешите бронировать! Еще</td>\n",
       "    </tr>\n",
       "    <tr>\n",
       "      <th>4</th>\n",
       "      <td>positive</td>\n",
       "      <td>Очередная командировка в Китай🇨🇳 Из Москвы SVO летим в Гуанчжоу CAN. Как всегда с любимым ️ ялюблютебя моимиглазами фото моя грам 2018 neversleep walks now today</td>\n",
       "    </tr>\n",
       "    <tr>\n",
       "      <th>5</th>\n",
       "      <td>negative</td>\n",
       "      <td>Игорь Зинченко shared a link. Л. Якубович: Аэрофлот - мразь!youtube.com15 марта 2013 года в Шереметьево был задержан рейс Аэрофлота SU-292 Москва-Хошимин. Время вылета переносилось несколько раз без всяких объяснений. После очер...</td>\n",
       "    </tr>\n",
       "    <tr>\n",
       "      <th>6</th>\n",
       "      <td>neutral</td>\n",
       "      <td>Когда его нет рядом- я на земле. Ольга Елохина added a new photo — at Тренажерный Комплекс Аэрофлот. Instagram Photos</td>\n",
       "    </tr>\n",
       "    <tr>\n",
       "      <th>7</th>\n",
       "      <td>neutral</td>\n",
       "      <td>Обещал и сделалдля тех кто пропустил! Собирал модель самолета и говорил что следующий на очереди и вот ОН! Красавец, в цвете Модель компании краски</td>\n",
       "    </tr>\n",
       "    <tr>\n",
       "      <th>8</th>\n",
       "      <td>neutral</td>\n",
       "      <td>Может кто-то передумал лететь в Москву))) на Аэрофлот, куплю билет за приемлемо ) срочно на рейсы этих выходных_10/03_либо 11/03 _1взр.спасибо.</td>\n",
       "    </tr>\n",
       "    <tr>\n",
       "      <th>9</th>\n",
       "      <td>neutral</td>\n",
       "      <td>шо опять вы там что... решили хором загнуться🤔 В Лондоне умер Николай Глушков. «Друг Березовского». Ему было 68 лет. В 2017 в России был приговорен к 8 годам по делу Аэрофлота. В 2010 году получил политическое убежище в Британии. Стесняюсь спросить, мы уже виноваты или Лондон ещё думает?</td>\n",
       "    </tr>\n",
       "  </tbody>\n",
       "</table>\n",
       "</div>"
      ],
      "text/plain": [
       "  sentiment  \\\n",
       "0  neutral    \n",
       "1  positive   \n",
       "2  positive   \n",
       "3  neutral    \n",
       "4  positive   \n",
       "5  negative   \n",
       "6  neutral    \n",
       "7  neutral    \n",
       "8  neutral    \n",
       "9  neutral    \n",
       "\n",
       "                                                                                                                                                                                                                                                                                               text  \n",
       "0  Предлагаем Вашему вниманию туры в ОАЭ с вылетом 3 мая Вылет: из Санкт-Петербурга Перелет: АК Россия (группа Аэрофлот) Продолжительность: на 3 ночи Цена от 18302 руб!!!                                                                                                                           \n",
       "1  Valter Lekhman shared a memory. Valter В 2012 г, когда я переезжал на Бали , в день моего отъезда в журнале \"Аэрофлот\" вышла статья с таким вот заголовком )) думаю это знак и у меня здесь все получится!!!                                                                                      \n",
       "2  А я новую ночь превращаю в рассвет                                                                                                                                                                                                                                                                \n",
       "3  Предлагаем вашему вниманию туры в Прагу! Перелет: АК Россия (группа Аэрофлот) Гарантированные номера в лучших отелях 3-5*… 23.03 продолжительность от 3 ночей, цена от 22 068 руб. Спешите бронировать! Еще                                                                                       \n",
       "4  Очередная командировка в Китай🇨🇳 Из Москвы SVO летим в Гуанчжоу CAN. Как всегда с любимым ️ ялюблютебя моимиглазами фото моя грам 2018 neversleep walks now today                                                                                                                                 \n",
       "5  Игорь Зинченко shared a link. Л. Якубович: Аэрофлот - мразь!youtube.com15 марта 2013 года в Шереметьево был задержан рейс Аэрофлота SU-292 Москва-Хошимин. Время вылета переносилось несколько раз без всяких объяснений. После очер...                                                           \n",
       "6  Когда его нет рядом- я на земле. Ольга Елохина added a new photo — at Тренажерный Комплекс Аэрофлот. Instagram Photos                                                                                                                                                                             \n",
       "7  Обещал и сделалдля тех кто пропустил! Собирал модель самолета и говорил что следующий на очереди и вот ОН! Красавец, в цвете Модель компании краски                                                                                                                                               \n",
       "8  Может кто-то передумал лететь в Москву))) на Аэрофлот, куплю билет за приемлемо ) срочно на рейсы этих выходных_10/03_либо 11/03 _1взр.спасибо.                                                                                                                                                   \n",
       "9  шо опять вы там что... решили хором загнуться🤔 В Лондоне умер Николай Глушков. «Друг Березовского». Ему было 68 лет. В 2017 в России был приговорен к 8 годам по делу Аэрофлота. В 2010 году получил политическое убежище в Британии. Стесняюсь спросить, мы уже виноваты или Лондон ещё думает?  "
      ]
     },
     "execution_count": 6,
     "metadata": {
      "tags": []
     },
     "output_type": "execute_result"
    }
   ],
   "source": [
    "pd.set_option('display.max_colwidth', -1)\n",
    "raw_df.head(10)"
   ]
  },
  {
   "cell_type": "markdown",
   "metadata": {
    "colab_type": "text",
    "id": "5t2a_JiYjBqc"
   },
   "source": [
    "## Препроцессинг текста\n",
    "\n",
    "Глядя на данные что мы имеем можно сделать вывод, что обработка текста будет делом не из простых.\n",
    "Вот список задач, которые мы должны решить, чтобы успешно токенизировать наши данные:\n",
    "1. Удалить английские слова. Глянув на содержание этих слов, можно понять, что это по большей части программные вставки, подобно \"added a new photo\". Эти слова, на мой взгляд будут только мешать.\n",
    "2. Очистить текст от пунктуаций. Хотя здесь немного спорный момент: некоторые токенайзеры, к примеру, обращают внимание на количество знаков восклицания. От себя могу добавить, что наличие знаков \")\" можно было бы использовать как метрику при определении положительной тональности. Однако, моя попытка применить данную идею не увенчалась успехом. Либо это не работает, либо я подготовил данные коряво. (скорее всего верно второе)\n",
    "3. Убрать числа. Данный вид данных не имеет практической пользы для текущей задачи классификации.\n",
    "4. Избавиться от имоджи. Хоть некоторые виды имоджи могут быть полезны при определении тональности, многие не несут в себе никакого смысла.\n",
    "5. Перевести слова в нижний регистр.\n",
    "6. Разделить слипшиеся слова. На мой вгляд, данный пункт очень важен. Смотря на выборку текстов сверху, можно заметить примеры слипшихся слов, как например \"ялюблютебя\" и \"сделалдля\". Удалять такие слова было бы нецелесообразно, так как неизвестно сколько таких слов может быть и какую важность они могут нести.\n",
    "7. Лемматезировать слова. Это необходимо для сокращения словаря данных.\n"
   ]
  },
  {
   "cell_type": "markdown",
   "metadata": {
    "colab_type": "text",
    "id": "8a50K9aw6-Sf"
   },
   "source": [
    "Используем регулярные выражения для фильтрации имоджи"
   ]
  },
  {
   "cell_type": "code",
   "execution_count": 0,
   "metadata": {
    "colab": {},
    "colab_type": "code",
    "id": "NUfJN4NYuBik"
   },
   "outputs": [],
   "source": [
    "# избавляемся от иможди\n",
    "emoji_pattern = re.compile(\"[\"\n",
    "                u\"\\U0001F600-\\U0001F64F\"  # emoticons\n",
    "                u\"\\U0001F300-\\U0001F5FF\"  # symbols & pictographs\n",
    "                u\"\\U0001F680-\\U0001F6FF\"  # transport & map symbols\n",
    "                u\"\\U0001F1E0-\\U0001F1FF\"  # flags (iOS)\n",
    "                u\"\\U00002702-\\U000027B0\"\n",
    "                u\"\\U000024C2-\\U0001F251\"\n",
    "                u\"\\U0001f926-\\U0001f937\"\n",
    "                u'\\U00010000-\\U0010ffff'\n",
    "                u\"\\u200d\"\n",
    "                u\"\\u2640-\\u2642\"\n",
    "                u\"\\u2600-\\u2B55\"\n",
    "                u\"\\u23cf\"\n",
    "                u\"\\u23e9\"\n",
    "                u\"\\u231a\"\n",
    "                u\"\\u3030\"\n",
    "                u\"\\ufe0f\"\n",
    "    \"]+\", flags=re.UNICODE)\n",
    "\n",
    "def remove_emoji(string):\n",
    "    return emoji_pattern.sub(r'', string)"
   ]
  },
  {
   "cell_type": "markdown",
   "metadata": {
    "colab_type": "text",
    "id": "ZE8fvaIF7ARJ"
   },
   "source": [
    "Выполним пункту с 1 по 5 (см. выше)."
   ]
  },
  {
   "cell_type": "code",
   "execution_count": 0,
   "metadata": {
    "colab": {},
    "colab_type": "code",
    "id": "KTfgPwj_aL85"
   },
   "outputs": [],
   "source": [
    "def no_emoji_tokenize(string):\n",
    "  words = word_tokenize(string)\n",
    "  return map(remove_emoji, words)\n",
    "  \n",
    "def ru_token(string):\n",
    "    \"\"\"russian tokenize based on nltk.word_tokenize. only russian letter remaind.\"\"\"\n",
    "    return [i.lower() for i in no_emoji_tokenize(string) if re.match(r'[\\u0400-\\u04ffа́]+$', i)]"
   ]
  },
  {
   "cell_type": "code",
   "execution_count": 0,
   "metadata": {
    "colab": {},
    "colab_type": "code",
    "id": "cVk3CcYYaL6L"
   },
   "outputs": [],
   "source": [
    "data_df = raw_df.copy()\n",
    "data_df['text'] = raw_df['text'].apply(ru_token)"
   ]
  },
  {
   "cell_type": "markdown",
   "metadata": {
    "colab_type": "text",
    "id": "eFe7CMVA7Y51"
   },
   "source": [
    "Посмотрим на текущий вид данных"
   ]
  },
  {
   "cell_type": "code",
   "execution_count": 10,
   "metadata": {
    "colab": {
     "base_uri": "https://localhost:8080/",
     "height": 771
    },
    "colab_type": "code",
    "id": "ugkYP-Q7aL3r",
    "outputId": "dc94088e-2d76-4afc-cd1d-1a4252ea98c0"
   },
   "outputs": [
    {
     "data": {
      "text/html": [
       "<div>\n",
       "<style scoped>\n",
       "    .dataframe tbody tr th:only-of-type {\n",
       "        vertical-align: middle;\n",
       "    }\n",
       "\n",
       "    .dataframe tbody tr th {\n",
       "        vertical-align: top;\n",
       "    }\n",
       "\n",
       "    .dataframe thead th {\n",
       "        text-align: right;\n",
       "    }\n",
       "</style>\n",
       "<table border=\"1\" class=\"dataframe\">\n",
       "  <thead>\n",
       "    <tr style=\"text-align: right;\">\n",
       "      <th></th>\n",
       "      <th>sentiment</th>\n",
       "      <th>text</th>\n",
       "    </tr>\n",
       "  </thead>\n",
       "  <tbody>\n",
       "    <tr>\n",
       "      <th>0</th>\n",
       "      <td>neutral</td>\n",
       "      <td>[предлагаем, вашему, вниманию, туры, в, оаэ, с, вылетом, мая, вылет, из, перелет, ак, россия, группа, аэрофлот, продолжительность, на, ночи, цена, от, руб]</td>\n",
       "    </tr>\n",
       "    <tr>\n",
       "      <th>1</th>\n",
       "      <td>positive</td>\n",
       "      <td>[в, г, когда, я, переезжал, на, бали, в, день, моего, отъезда, в, журнале, аэрофлот, вышла, статья, с, таким, вот, заголовком, думаю, это, знак, и, у, меня, здесь, все, получится]</td>\n",
       "    </tr>\n",
       "    <tr>\n",
       "      <th>2</th>\n",
       "      <td>positive</td>\n",
       "      <td>[а, я, новую, ночь, превращаю, в, рассвет]</td>\n",
       "    </tr>\n",
       "    <tr>\n",
       "      <th>3</th>\n",
       "      <td>neutral</td>\n",
       "      <td>[предлагаем, вашему, вниманию, туры, в, прагу, перелет, ак, россия, группа, аэрофлот, гарантированные, номера, в, лучших, отелях, продолжительность, от, ночей, цена, от, руб, спешите, бронировать, еще]</td>\n",
       "    </tr>\n",
       "    <tr>\n",
       "      <th>4</th>\n",
       "      <td>positive</td>\n",
       "      <td>[очередная, командировка, в, китай, из, москвы, летим, в, гуанчжоу, как, всегда, с, любимым, ялюблютебя, моимиглазами, фото, моя, грам]</td>\n",
       "    </tr>\n",
       "    <tr>\n",
       "      <th>5</th>\n",
       "      <td>negative</td>\n",
       "      <td>[игорь, зинченко, якубович, аэрофлот, мразь, марта, года, в, шереметьево, был, задержан, рейс, аэрофлота, время, вылета, переносилось, несколько, раз, без, всяких, объяснений, после, очер]</td>\n",
       "    </tr>\n",
       "    <tr>\n",
       "      <th>6</th>\n",
       "      <td>neutral</td>\n",
       "      <td>[когда, его, нет, я, на, земле, ольга, елохина, тренажерный, комплекс, аэрофлот]</td>\n",
       "    </tr>\n",
       "    <tr>\n",
       "      <th>7</th>\n",
       "      <td>neutral</td>\n",
       "      <td>[обещал, и, сделалдля, тех, кто, пропустил, собирал, модель, самолета, и, говорил, что, следующий, на, очереди, и, вот, он, красавец, в, цвете, модель, компании, краски]</td>\n",
       "    </tr>\n",
       "    <tr>\n",
       "      <th>8</th>\n",
       "      <td>neutral</td>\n",
       "      <td>[может, передумал, лететь, в, москву, на, аэрофлот, куплю, билет, за, приемлемо, срочно, на, рейсы, этих]</td>\n",
       "    </tr>\n",
       "    <tr>\n",
       "      <th>9</th>\n",
       "      <td>neutral</td>\n",
       "      <td>[шо, опять, вы, там, что, решили, хором, загнуться, в, лондоне, умер, николай, глушков, друг, березовского, ему, было, лет, в, в, россии, был, приговорен, к, годам, по, делу, аэрофлота, в, году, получил, политическое, убежище, в, британии, стесняюсь, спросить, мы, уже, виноваты, или, лондон, ещё, думает]</td>\n",
       "    </tr>\n",
       "    <tr>\n",
       "      <th>10</th>\n",
       "      <td>negative</td>\n",
       "      <td>[шикарный, заморозили, людей, и, замучали, собственно, как, и, все, рейсы, вместо, вылетаю, в, жди]</td>\n",
       "    </tr>\n",
       "    <tr>\n",
       "      <th>11</th>\n",
       "      <td>neutral</td>\n",
       "      <td>[дорога]</td>\n",
       "    </tr>\n",
       "    <tr>\n",
       "      <th>12</th>\n",
       "      <td>positive</td>\n",
       "      <td>[кто, со, мной, в, японию, весной, большая, подборка, от, аэрофлота, очень, много, дешевых, билетов, из, москвы, и, петербурга, в, азию, и, америку, авиакомпания, аэрофлот, начала, большую, распродажу, по, российским, и, международным, направлениям, в, цене, питание, и, багаж, с, января, по, апрель, распродажа, продлитс]</td>\n",
       "    </tr>\n",
       "    <tr>\n",
       "      <th>13</th>\n",
       "      <td>neutral</td>\n",
       "      <td>[сергей, тоти]</td>\n",
       "    </tr>\n",
       "    <tr>\n",
       "      <th>14</th>\n",
       "      <td>neutral</td>\n",
       "      <td>[рысбек, акынбеков, геннадийсегодня, президент, кр, прибыл, в, москву, на, обычном, рейсе, аэрофлота, скромно, и, с, достоинством]</td>\n",
       "    </tr>\n",
       "    <tr>\n",
       "      <th>15</th>\n",
       "      <td>neutral</td>\n",
       "      <td>[добрый, день, ищу, человека, который, летит, в, москву, прямым, рейсом, авиакомпании, или, и, согласится, взять, в, багаж, собаку, мы, все, организуем, и, оплатим, вам, нужно, будет, только, получить, переноску, с, собакой, в, московском, аэропорту, и, вынести, ее, к, встречающим, пожалуйста, помогите, собаке, добраться, до, дома]</td>\n",
       "    </tr>\n",
       "    <tr>\n",
       "      <th>16</th>\n",
       "      <td>positive</td>\n",
       "      <td>[начинается, период, зимней, сказки, в, нижней, части, суровая, грязная, реальность, пока, но, сверху, уже, красиво, кстати, в, этом, году, новогодняя, столица, россии, ни, много, ни, мало, поэтому, красоты, будет, гораздо, больше, чем, в, обычные, годы, а, даже, поставил, дополнительные, дневные, рейсы, января, приезжайте]</td>\n",
       "    </tr>\n",
       "    <tr>\n",
       "      <th>17</th>\n",
       "      <td>neutral</td>\n",
       "      <td>[первое, фото, еды, в, моем, инста, а, все, потому, что, при, перелете, из, че, в, мск, ничегошеньки, не, дают, вкусненького, а, из, костаная, в, алматы, вон, сколько, всего, хотя, перелет, по, времени, столько, же, часа, и, класс, такой, же, вот, вам, и, казахстан]</td>\n",
       "    </tr>\n",
       "    <tr>\n",
       "      <th>18</th>\n",
       "      <td>negative</td>\n",
       "      <td>[внезапно, москва, стала, гораздо, дальше, от, лондона, чем, питер, или, странности, ценообразования]</td>\n",
       "    </tr>\n",
       "    <tr>\n",
       "      <th>19</th>\n",
       "      <td>neutral</td>\n",
       "      <td>[о, ручной, клади, бесплатной]</td>\n",
       "    </tr>\n",
       "  </tbody>\n",
       "</table>\n",
       "</div>"
      ],
      "text/plain": [
       "   sentiment  \\\n",
       "0   neutral    \n",
       "1   positive   \n",
       "2   positive   \n",
       "3   neutral    \n",
       "4   positive   \n",
       "5   negative   \n",
       "6   neutral    \n",
       "7   neutral    \n",
       "8   neutral    \n",
       "9   neutral    \n",
       "10  negative   \n",
       "11  neutral    \n",
       "12  positive   \n",
       "13  neutral    \n",
       "14  neutral    \n",
       "15  neutral    \n",
       "16  positive   \n",
       "17  neutral    \n",
       "18  negative   \n",
       "19  neutral    \n",
       "\n",
       "                                                                                                                                                                                                                                                                                                                                             text  \n",
       "0   [предлагаем, вашему, вниманию, туры, в, оаэ, с, вылетом, мая, вылет, из, перелет, ак, россия, группа, аэрофлот, продолжительность, на, ночи, цена, от, руб]                                                                                                                                                                                    \n",
       "1   [в, г, когда, я, переезжал, на, бали, в, день, моего, отъезда, в, журнале, аэрофлот, вышла, статья, с, таким, вот, заголовком, думаю, это, знак, и, у, меня, здесь, все, получится]                                                                                                                                                            \n",
       "2   [а, я, новую, ночь, превращаю, в, рассвет]                                                                                                                                                                                                                                                                                                     \n",
       "3   [предлагаем, вашему, вниманию, туры, в, прагу, перелет, ак, россия, группа, аэрофлот, гарантированные, номера, в, лучших, отелях, продолжительность, от, ночей, цена, от, руб, спешите, бронировать, еще]                                                                                                                                      \n",
       "4   [очередная, командировка, в, китай, из, москвы, летим, в, гуанчжоу, как, всегда, с, любимым, ялюблютебя, моимиглазами, фото, моя, грам]                                                                                                                                                                                                        \n",
       "5   [игорь, зинченко, якубович, аэрофлот, мразь, марта, года, в, шереметьево, был, задержан, рейс, аэрофлота, время, вылета, переносилось, несколько, раз, без, всяких, объяснений, после, очер]                                                                                                                                                   \n",
       "6   [когда, его, нет, я, на, земле, ольга, елохина, тренажерный, комплекс, аэрофлот]                                                                                                                                                                                                                                                               \n",
       "7   [обещал, и, сделалдля, тех, кто, пропустил, собирал, модель, самолета, и, говорил, что, следующий, на, очереди, и, вот, он, красавец, в, цвете, модель, компании, краски]                                                                                                                                                                      \n",
       "8   [может, передумал, лететь, в, москву, на, аэрофлот, куплю, билет, за, приемлемо, срочно, на, рейсы, этих]                                                                                                                                                                                                                                      \n",
       "9   [шо, опять, вы, там, что, решили, хором, загнуться, в, лондоне, умер, николай, глушков, друг, березовского, ему, было, лет, в, в, россии, был, приговорен, к, годам, по, делу, аэрофлота, в, году, получил, политическое, убежище, в, британии, стесняюсь, спросить, мы, уже, виноваты, или, лондон, ещё, думает]                              \n",
       "10  [шикарный, заморозили, людей, и, замучали, собственно, как, и, все, рейсы, вместо, вылетаю, в, жди]                                                                                                                                                                                                                                            \n",
       "11  [дорога]                                                                                                                                                                                                                                                                                                                                       \n",
       "12  [кто, со, мной, в, японию, весной, большая, подборка, от, аэрофлота, очень, много, дешевых, билетов, из, москвы, и, петербурга, в, азию, и, америку, авиакомпания, аэрофлот, начала, большую, распродажу, по, российским, и, международным, направлениям, в, цене, питание, и, багаж, с, января, по, апрель, распродажа, продлитс]             \n",
       "13  [сергей, тоти]                                                                                                                                                                                                                                                                                                                                 \n",
       "14  [рысбек, акынбеков, геннадийсегодня, президент, кр, прибыл, в, москву, на, обычном, рейсе, аэрофлота, скромно, и, с, достоинством]                                                                                                                                                                                                             \n",
       "15  [добрый, день, ищу, человека, который, летит, в, москву, прямым, рейсом, авиакомпании, или, и, согласится, взять, в, багаж, собаку, мы, все, организуем, и, оплатим, вам, нужно, будет, только, получить, переноску, с, собакой, в, московском, аэропорту, и, вынести, ее, к, встречающим, пожалуйста, помогите, собаке, добраться, до, дома]  \n",
       "16  [начинается, период, зимней, сказки, в, нижней, части, суровая, грязная, реальность, пока, но, сверху, уже, красиво, кстати, в, этом, году, новогодняя, столица, россии, ни, много, ни, мало, поэтому, красоты, будет, гораздо, больше, чем, в, обычные, годы, а, даже, поставил, дополнительные, дневные, рейсы, января, приезжайте]          \n",
       "17  [первое, фото, еды, в, моем, инста, а, все, потому, что, при, перелете, из, че, в, мск, ничегошеньки, не, дают, вкусненького, а, из, костаная, в, алматы, вон, сколько, всего, хотя, перелет, по, времени, столько, же, часа, и, класс, такой, же, вот, вам, и, казахстан]                                                                     \n",
       "18  [внезапно, москва, стала, гораздо, дальше, от, лондона, чем, питер, или, странности, ценообразования]                                                                                                                                                                                                                                          \n",
       "19  [о, ручной, клади, бесплатной]                                                                                                                                                                                                                                                                                                                 "
      ]
     },
     "execution_count": 10,
     "metadata": {
      "tags": []
     },
     "output_type": "execute_result"
    }
   ],
   "source": [
    "data_df.head(20)"
   ]
  },
  {
   "cell_type": "markdown",
   "metadata": {
    "colab_type": "text",
    "id": "34zbfzyyjUmt"
   },
   "source": [
    "### Займемся разделение слипшихся слов.\n",
    "Я не нашел готового библиотек для решения данной задачи. Пришлось искать примеры разделения слипшихся слов на английском и модифицировать их под свои нужды.\n",
    "По большей части я использовал данные ресурсы:\n",
    "- Сайт Национальный корпуса русского языка: http://ruscorpora.ru/index.html\n",
    "- Word Segmentation by Peter Norwig: https://nbviewer.jupyter.org/url/norvig.com/ipython/How%20to%20Do%20Things%20with%20Words.ipynb#(5)-Task:-Word-Segmentation"
   ]
  },
  {
   "cell_type": "markdown",
   "metadata": {
    "colab_type": "text",
    "id": "Xg-NaTxv8oR1"
   },
   "source": [
    "Идея\n",
    "\n",
    "Мы будем использовать частотный словарь русского корпуса.\n",
    "Будем проходить по словам в данных. Если находим слово, которое не существует в словаре, будем делить его на части полным перебором. При каждом разделении вычисляем выроятность того, что данное разделение возможно, основываясь на частотных вероятностях полученных частей слова. В итоге выбираем разделение наиболее вероятное.\n",
    "\n",
    "Для ускорения процесса будем кешировать данные."
   ]
  },
  {
   "cell_type": "markdown",
   "metadata": {
    "colab_type": "text",
    "id": "iXvl1KT7-HsB"
   },
   "source": [
    "Скачиваем корпус русского языка"
   ]
  },
  {
   "cell_type": "code",
   "execution_count": 11,
   "metadata": {
    "colab": {
     "base_uri": "https://localhost:8080/",
     "height": 51
    },
    "colab_type": "code",
    "id": "SG9-yeqXv60i",
    "outputId": "833d6f0a-1ea1-4a6f-d105-180300aeff97"
   },
   "outputs": [
    {
     "name": "stdout",
     "output_type": "stream",
     "text": [
      "Скачивание архива с файлом, содержащим частоты словоформ.\n",
      "Скачивание окончено.\n"
     ]
    }
   ],
   "source": [
    "if not os.path.isfile('./corpus/1grams-3.txt'):\n",
    "  if not os.path.exists('./corpus'):\n",
    "    os.makedirs('./corpus')\n",
    "  print(\"Скачивание архива с файлом, содержащим частоты словоформ.\")\n",
    "  import urllib.request\n",
    "  import zipfile\n",
    "  url = 'http://www.ruscorpora.ru/ngrams/1grams-3.zip'  \n",
    "  urllib.request.urlretrieve(url, './corpus/1grams-3.zip')\n",
    "  with zipfile.ZipFile('./corpus/1grams-3.zip','r') as zip_ref:\n",
    "    zip_ref.extractall('./corpus/')\n",
    "  os.remove('./corpus/1grams-3.zip')\n",
    "  print(\"Скачивание окончено.\")\n",
    "  "
   ]
  },
  {
   "cell_type": "code",
   "execution_count": 0,
   "metadata": {
    "colab": {},
    "colab_type": "code",
    "id": "mQm1ne5vtuKp"
   },
   "outputs": [],
   "source": [
    "def get_corpus_dict():\n",
    "  dic = dict()\n",
    "  with open('corpus/1grams-3.txt') as f:\n",
    "    for line in f.readlines():\n",
    "      freq, word = line.strip().split(\"\\t\")\n",
    "      dic[word] = int(freq)\n",
    "\n",
    "  return dic"
   ]
  },
  {
   "cell_type": "code",
   "execution_count": 13,
   "metadata": {
    "colab": {
     "base_uri": "https://localhost:8080/",
     "height": 34
    },
    "colab_type": "code",
    "id": "MpMQ3yA6jSCL",
    "outputId": "b18b908c-6089-4c4a-859b-12d9559bfa49"
   },
   "outputs": [
    {
     "name": "stdout",
     "output_type": "stream",
     "text": [
      "Количество слов в корпусе: 1054210\n"
     ]
    }
   ],
   "source": [
    "corpus_dict = get_corpus_dict()\n",
    "print(\"Количество слов в корпусе:\", len(corpus_dict))"
   ]
  },
  {
   "cell_type": "code",
   "execution_count": 0,
   "metadata": {
    "colab": {},
    "colab_type": "code",
    "id": "gRMweEHMjR_e"
   },
   "outputs": [],
   "source": [
    "def print_dict(dic, n=5):\n",
    "  i = 0\n",
    "  print(\"word -- key\")\n",
    "  for k, v in dic.items():\n",
    "    if i == n:\n",
    "      break\n",
    "    print(k, \"--\", v)\n",
    "    i += 1"
   ]
  },
  {
   "cell_type": "code",
   "execution_count": 15,
   "metadata": {
    "colab": {
     "base_uri": "https://localhost:8080/",
     "height": 119
    },
    "colab_type": "code",
    "id": "xLa4FqGJnBnY",
    "outputId": "529e13a9-d245-45e8-acd8-1edfbdaa06d5"
   },
   "outputs": [
    {
     "name": "stdout",
     "output_type": "stream",
     "text": [
      "word -- key\n",
      "и -- 6829968\n",
      "в -- 5190215\n",
      "не -- 3164900\n",
      "на -- 2729210\n",
      "с -- 2064408\n"
     ]
    }
   ],
   "source": [
    "print_dict(corpus_dict)"
   ]
  },
  {
   "cell_type": "markdown",
   "metadata": {
    "colab_type": "text",
    "id": "D8U0xdpk-bAh"
   },
   "source": [
    "Как вы можем видеть сверху, у каждого слова есть значение частоты. Однако, нам нужно превести это в вероятностную величину в рамках [0, 1]. \n",
    "\n",
    "Однако не все так глядко. Сумма частот оказалась слишком большой, поэтому будем использовать иной метод нормализации частоты для получения вероятности.\n",
    "\n",
    "Так мы будем нормализовать частоты, деля на максимальное значение в словаре, то есть на значение слова \"и\" = 6829968"
   ]
  },
  {
   "cell_type": "code",
   "execution_count": 16,
   "metadata": {
    "colab": {
     "base_uri": "https://localhost:8080/",
     "height": 34
    },
    "colab_type": "code",
    "id": "X_tCIIbq7oxN",
    "outputId": "9d14f1ee-390d-46f2-9575-46b9b2643cbb"
   },
   "outputs": [
    {
     "data": {
      "text/plain": [
       "6829968"
      ]
     },
     "execution_count": 16,
     "metadata": {
      "tags": []
     },
     "output_type": "execute_result"
    }
   ],
   "source": [
    "FREQ_MAX = max(corpus_dict.values())\n",
    "FREQ_MAX"
   ]
  },
  {
   "cell_type": "markdown",
   "metadata": {
    "colab_type": "text",
    "id": "KXj9KNzc_MN6"
   },
   "source": [
    "Функция нормализации"
   ]
  },
  {
   "cell_type": "code",
   "execution_count": 0,
   "metadata": {
    "colab": {},
    "colab_type": "code",
    "id": "m-swStJF7hmv"
   },
   "outputs": [],
   "source": [
    "freq_normalize = lambda x: x / FREQ_MAX"
   ]
  },
  {
   "cell_type": "markdown",
   "metadata": {
    "colab_type": "text",
    "id": "GUwwZhy1_SWd"
   },
   "source": [
    "Нормализуем данные"
   ]
  },
  {
   "cell_type": "code",
   "execution_count": 0,
   "metadata": {
    "colab": {},
    "colab_type": "code",
    "id": "TRmzh1majR6T"
   },
   "outputs": [],
   "source": [
    "corpus_dict = {k: freq_normalize(v) for k, v in corpus_dict.items()}"
   ]
  },
  {
   "cell_type": "code",
   "execution_count": 19,
   "metadata": {
    "colab": {
     "base_uri": "https://localhost:8080/",
     "height": 119
    },
    "colab_type": "code",
    "id": "8Jaa0_lMjR3p",
    "outputId": "febd7c13-ffbc-4376-c609-d12c9684d95a"
   },
   "outputs": [
    {
     "name": "stdout",
     "output_type": "stream",
     "text": [
      "word -- key\n",
      "и -- 1.0\n",
      "в -- 0.7599179088393972\n",
      "не -- 0.46338430868197333\n",
      "на -- 0.39959338023252816\n",
      "с -- 0.3022573458616497\n"
     ]
    }
   ],
   "source": [
    "print_dict(corpus_dict)"
   ]
  },
  {
   "cell_type": "markdown",
   "metadata": {
    "colab_type": "text",
    "id": "NExKwXke_VqF"
   },
   "source": [
    "Используем функцию враппер для кеширования аргументов для ускорения."
   ]
  },
  {
   "cell_type": "code",
   "execution_count": 0,
   "metadata": {
    "colab": {},
    "colab_type": "code",
    "id": "IODeYNP8jR03"
   },
   "outputs": [],
   "source": [
    "def memo(f):\n",
    "    \"Memoize function f, whose args must all be hashable.\"\n",
    "    cache = {}\n",
    "    def fmemo(*args):\n",
    "        if args not in cache:\n",
    "            cache[args] = f(*args)\n",
    "        return cache[args]\n",
    "    fmemo.cache = cache\n",
    "    return fmemo"
   ]
  },
  {
   "cell_type": "markdown",
   "metadata": {
    "colab_type": "text",
    "id": "PdV3FTg5_pi6"
   },
   "source": [
    "Функционал для сегметации слов на части на основе частотных вероятностей."
   ]
  },
  {
   "cell_type": "code",
   "execution_count": 0,
   "metadata": {
    "colab": {},
    "colab_type": "code",
    "id": "rwLvJEKhaLyK"
   },
   "outputs": [],
   "source": [
    "def pdist(word):\n",
    "    \"Make a probability distribution, given evidence from a Counter.\"\n",
    "    if word in corpus_dict:\n",
    "      return corpus_dict[word]\n",
    "    else:\n",
    "      return 0\n",
    "\n",
    "def Pwords(words):\n",
    "    \"Probability of words, assuming each word is independent of others.\"\n",
    "    return np.prod([pdist(w) for w in words])\n",
    "\n",
    "def splits(text, start=0, L=20):\n",
    "    \"Return a list of all (first, rest) pairs; start <= len(first) <= L.\"\n",
    "    return [(text[:i], text[i:]) \n",
    "            for i in range(start, min(len(text), L)+1)]\n",
    "\n",
    "@memo\n",
    "def segment(text):\n",
    "    \"Return a list of words that is the most probable segmentation of text.\"\n",
    "    if not text: \n",
    "        return []\n",
    "    else:\n",
    "      candidates = ([first] + segment(rest) \n",
    "                    for (first, rest) in splits(text, 1))\n",
    "      return max(candidates, key=Pwords)"
   ]
  },
  {
   "cell_type": "markdown",
   "metadata": {
    "colab_type": "text",
    "id": "iXijgsJr_yZQ"
   },
   "source": [
    "Протестируем сегментацию"
   ]
  },
  {
   "cell_type": "code",
   "execution_count": 22,
   "metadata": {
    "colab": {
     "base_uri": "https://localhost:8080/",
     "height": 68
    },
    "colab_type": "code",
    "id": "ZqiEHoIvaLvc",
    "outputId": "3884d56f-cccb-4aa1-ec34-f1e48cc1e854"
   },
   "outputs": [
    {
     "name": "stdout",
     "output_type": "stream",
     "text": [
      "['я', 'люблю', 'тебя']\n",
      "CPU times: user 1.65 ms, sys: 0 ns, total: 1.65 ms\n",
      "Wall time: 1.51 ms\n"
     ]
    }
   ],
   "source": [
    "%time print(segment('ялюблютебя'))"
   ]
  },
  {
   "cell_type": "markdown",
   "metadata": {
    "colab_type": "text",
    "id": "DO_-w97JAHTn"
   },
   "source": [
    "Функция для сегментирования слов в данных. Важный момент: после, стоит очистить данные от слов длиной меньше 3 букв, ибо они врядли будут нести смысл в текст и считаются скорее как stop words. Хоть очистка от stop words будет еще применена в дальнейшем, дополнительная очистка не помешает."
   ]
  },
  {
   "cell_type": "code",
   "execution_count": 0,
   "metadata": {
    "colab": {},
    "colab_type": "code",
    "id": "P5KdQyHPqLcH"
   },
   "outputs": [],
   "source": [
    "def segment_words(words):\n",
    "  new_words = []\n",
    "  for word in words:\n",
    "    if word in corpus_dict:\n",
    "      new_words.append(word)\n",
    "    else:\n",
    "      new_words.extend(segment(word))\n",
    "  new_words = list(filter(lambda w: len(w)>2, new_words))\n",
    "  return new_words"
   ]
  },
  {
   "cell_type": "code",
   "execution_count": 0,
   "metadata": {
    "colab": {},
    "colab_type": "code",
    "id": "gHOV8bzYaLst"
   },
   "outputs": [],
   "source": [
    "data_df['text'] = data_df['text'].apply(segment_words)"
   ]
  },
  {
   "cell_type": "markdown",
   "metadata": {
    "colab_type": "text",
    "id": "PQ5WZCWRA_vu"
   },
   "source": [
    "Поглядим на получившиеся данные."
   ]
  },
  {
   "cell_type": "code",
   "execution_count": 25,
   "metadata": {
    "colab": {
     "base_uri": "https://localhost:8080/",
     "height": 376
    },
    "colab_type": "code",
    "id": "bm85aZjzaLp7",
    "outputId": "b085d985-3aca-4bd8-9138-fa9be844f37c"
   },
   "outputs": [
    {
     "data": {
      "text/html": [
       "<div>\n",
       "<style scoped>\n",
       "    .dataframe tbody tr th:only-of-type {\n",
       "        vertical-align: middle;\n",
       "    }\n",
       "\n",
       "    .dataframe tbody tr th {\n",
       "        vertical-align: top;\n",
       "    }\n",
       "\n",
       "    .dataframe thead th {\n",
       "        text-align: right;\n",
       "    }\n",
       "</style>\n",
       "<table border=\"1\" class=\"dataframe\">\n",
       "  <thead>\n",
       "    <tr style=\"text-align: right;\">\n",
       "      <th></th>\n",
       "      <th>sentiment</th>\n",
       "      <th>text</th>\n",
       "    </tr>\n",
       "  </thead>\n",
       "  <tbody>\n",
       "    <tr>\n",
       "      <th>0</th>\n",
       "      <td>neutral</td>\n",
       "      <td>[предлагаем, вашему, вниманию, туры, вылетом, мая, вылет, перелет, россия, группа, аэрофлот, продолжительность, ночи, цена, руб]</td>\n",
       "    </tr>\n",
       "    <tr>\n",
       "      <th>1</th>\n",
       "      <td>positive</td>\n",
       "      <td>[когда, переезжал, бали, день, моего, отъезда, журнале, аэрофлот, вышла, статья, таким, вот, заголовком, думаю, это, знак, меня, здесь, все, получится]</td>\n",
       "    </tr>\n",
       "    <tr>\n",
       "      <th>2</th>\n",
       "      <td>positive</td>\n",
       "      <td>[новую, ночь, превращаю, рассвет]</td>\n",
       "    </tr>\n",
       "    <tr>\n",
       "      <th>3</th>\n",
       "      <td>neutral</td>\n",
       "      <td>[предлагаем, вашему, вниманию, туры, перелет, россия, группа, аэрофлот, гарантированные, номера, лучших, отелях, продолжительность, ночей, цена, руб, спешите, бронировать, еще]</td>\n",
       "    </tr>\n",
       "    <tr>\n",
       "      <th>4</th>\n",
       "      <td>positive</td>\n",
       "      <td>[очередная, командировка, китай, москвы, летим, гуан, чжоу, как, всегда, любимым, люблю, тебя, моим, глазами, фото, моя, грам]</td>\n",
       "    </tr>\n",
       "    <tr>\n",
       "      <th>5</th>\n",
       "      <td>negative</td>\n",
       "      <td>[горь, зин, чен, кубов, аэрофлот, мразь, марта, года, шер, меть, был, задержан, рейс, аэрофлота, время, вылета, переносилось, несколько, раз, без, всяких, объяснений, после, чер]</td>\n",
       "    </tr>\n",
       "    <tr>\n",
       "      <th>6</th>\n",
       "      <td>neutral</td>\n",
       "      <td>[когда, его, нет, земле, тренажерный, комплекс, аэрофлот]</td>\n",
       "    </tr>\n",
       "    <tr>\n",
       "      <th>7</th>\n",
       "      <td>neutral</td>\n",
       "      <td>[обещал, сделал, для, тех, кто, пропустил, собирал, модель, самолета, говорил, что, следующий, очереди, вот, красавец, цвете, модель, компании, краски]</td>\n",
       "    </tr>\n",
       "    <tr>\n",
       "      <th>8</th>\n",
       "      <td>neutral</td>\n",
       "      <td>[может, передумал, лететь, аэрофлот, куплю, билет, приемлемо, срочно, рейсы, этих]</td>\n",
       "    </tr>\n",
       "    <tr>\n",
       "      <th>9</th>\n",
       "      <td>neutral</td>\n",
       "      <td>[опять, там, что, решили, хором, загнуться, умер, николай, ушко, друг, березовского, ему, было, лет, россии, был, приговорен, годам, делу, аэрофлота, году, получил, политическое, убежище, брит, стесняюсь, спросить, уже, виноваты, или, ещё, думает]</td>\n",
       "    </tr>\n",
       "  </tbody>\n",
       "</table>\n",
       "</div>"
      ],
      "text/plain": [
       "  sentiment  \\\n",
       "0  neutral    \n",
       "1  positive   \n",
       "2  positive   \n",
       "3  neutral    \n",
       "4  positive   \n",
       "5  negative   \n",
       "6  neutral    \n",
       "7  neutral    \n",
       "8  neutral    \n",
       "9  neutral    \n",
       "\n",
       "                                                                                                                                                                                                                                                      text  \n",
       "0  [предлагаем, вашему, вниманию, туры, вылетом, мая, вылет, перелет, россия, группа, аэрофлот, продолжительность, ночи, цена, руб]                                                                                                                         \n",
       "1  [когда, переезжал, бали, день, моего, отъезда, журнале, аэрофлот, вышла, статья, таким, вот, заголовком, думаю, это, знак, меня, здесь, все, получится]                                                                                                  \n",
       "2  [новую, ночь, превращаю, рассвет]                                                                                                                                                                                                                        \n",
       "3  [предлагаем, вашему, вниманию, туры, перелет, россия, группа, аэрофлот, гарантированные, номера, лучших, отелях, продолжительность, ночей, цена, руб, спешите, бронировать, еще]                                                                         \n",
       "4  [очередная, командировка, китай, москвы, летим, гуан, чжоу, как, всегда, любимым, люблю, тебя, моим, глазами, фото, моя, грам]                                                                                                                           \n",
       "5  [горь, зин, чен, кубов, аэрофлот, мразь, марта, года, шер, меть, был, задержан, рейс, аэрофлота, время, вылета, переносилось, несколько, раз, без, всяких, объяснений, после, чер]                                                                       \n",
       "6  [когда, его, нет, земле, тренажерный, комплекс, аэрофлот]                                                                                                                                                                                                \n",
       "7  [обещал, сделал, для, тех, кто, пропустил, собирал, модель, самолета, говорил, что, следующий, очереди, вот, красавец, цвете, модель, компании, краски]                                                                                                  \n",
       "8  [может, передумал, лететь, аэрофлот, куплю, билет, приемлемо, срочно, рейсы, этих]                                                                                                                                                                       \n",
       "9  [опять, там, что, решили, хором, загнуться, умер, николай, ушко, друг, березовского, ему, было, лет, россии, был, приговорен, годам, делу, аэрофлота, году, получил, политическое, убежище, брит, стесняюсь, спросить, уже, виноваты, или, ещё, думает]  "
      ]
     },
     "execution_count": 25,
     "metadata": {
      "tags": []
     },
     "output_type": "execute_result"
    }
   ],
   "source": [
    "data_df.head(10)"
   ]
  },
  {
   "cell_type": "markdown",
   "metadata": {
    "colab_type": "text",
    "id": "We7KM4F72Cxn"
   },
   "source": [
    "### Лемматизация.\n",
    "\n",
    "Как уже было сказано, лемматизация важна для сокращения словаря наших данных. Более того, она снижает смысловую нагрузку, упрощая и стандартизируя слова.\n",
    "\n",
    "\n",
    "Для данной цели, будем использовать токенайзер с лемматизацией русского языка от DeepPavlov."
   ]
  },
  {
   "cell_type": "code",
   "execution_count": 26,
   "metadata": {
    "colab": {
     "base_uri": "https://localhost:8080/",
     "height": 170
    },
    "colab_type": "code",
    "id": "igj-sgJ0VTXM",
    "outputId": "6ee3081c-0f0a-47b5-f6cb-f71ec1327cb3"
   },
   "outputs": [
    {
     "name": "stderr",
     "output_type": "stream",
     "text": [
      "[nltk_data] Downloading package punkt to /root/nltk_data...\n",
      "[nltk_data]   Package punkt is already up-to-date!\n",
      "[nltk_data] Downloading package stopwords to /root/nltk_data...\n",
      "[nltk_data]   Package stopwords is already up-to-date!\n",
      "[nltk_data] Downloading package perluniprops to /root/nltk_data...\n",
      "[nltk_data]   Unzipping misc/perluniprops.zip.\n",
      "[nltk_data] Downloading package nonbreaking_prefixes to\n",
      "[nltk_data]     /root/nltk_data...\n",
      "[nltk_data]   Unzipping corpora/nonbreaking_prefixes.zip.\n"
     ]
    }
   ],
   "source": [
    "from deeppavlov.models.tokenizers.ru_tokenizer import RussianTokenizer\n",
    "rus_tokenizer = RussianTokenizer(lemmas=True, stopwords=stopwords.words('russian'))"
   ]
  },
  {
   "cell_type": "markdown",
   "metadata": {
    "colab_type": "text",
    "id": "7SKDXZPDCjLY"
   },
   "source": [
    "Функция полной токенизации, основанной на всем, что мы сделали до этого."
   ]
  },
  {
   "cell_type": "code",
   "execution_count": 0,
   "metadata": {
    "colab": {},
    "colab_type": "code",
    "id": "CsBdZRRNVTXU"
   },
   "outputs": [],
   "source": [
    "def final_tokenizer(string):\n",
    "  words = segment_words(ru_token(string))\n",
    "  return rus_tokenizer([\" \".join(words)])[0]"
   ]
  },
  {
   "cell_type": "markdown",
   "metadata": {
    "colab_type": "text",
    "id": "w_6gGR-fCxAH"
   },
   "source": [
    "## Создадим TF-IDF векторизатор\n",
    "Будем использовать векторизированные данные для обучения моделей."
   ]
  },
  {
   "cell_type": "code",
   "execution_count": 0,
   "metadata": {
    "colab": {},
    "colab_type": "code",
    "id": "LfGY_pL42B0Q"
   },
   "outputs": [],
   "source": [
    "params = {}\n",
    "params['tokenizer'] = final_tokenizer\n",
    "params['stop_words'] = stopwords.words('russian')\n",
    "params['ngram_range'] = (1, 3)\n",
    "params['min_df'] = 3"
   ]
  },
  {
   "cell_type": "code",
   "execution_count": 0,
   "metadata": {
    "colab": {},
    "colab_type": "code",
    "id": "mGKuPSxs2Bxi"
   },
   "outputs": [],
   "source": [
    "tfidf  = TfidfVectorizer(**params)"
   ]
  },
  {
   "cell_type": "code",
   "execution_count": 31,
   "metadata": {
    "colab": {
     "base_uri": "https://localhost:8080/",
     "height": 190
    },
    "colab_type": "code",
    "id": "D5Pt7BOL2Bur",
    "outputId": "5ca6472e-1a98-42f0-a863-c872f89b7d7b"
   },
   "outputs": [
    {
     "data": {
      "text/plain": [
       "TfidfVectorizer(analyzer='word', binary=False, decode_error='strict',\n",
       "        dtype=<class 'numpy.float64'>, encoding='utf-8', input='content',\n",
       "        lowercase=True, max_df=1.0, max_features=None, min_df=3,\n",
       "        ngram_range=(1, 3), norm='l2', preprocessor=None, smooth_idf=True,\n",
       "        stop_words=['и', 'в', 'во', 'не', 'что', 'он', 'на', 'я', 'с', 'со', 'как', 'а', 'то', 'все', 'она', 'так', 'его', 'но', 'да', 'ты', 'к', 'у', 'же', 'вы', 'за', 'бы', 'по', 'только', 'ее', 'мне', 'было', 'вот', 'от', 'меня', 'еще', 'нет', 'о', 'из', 'ему', 'теперь', 'когда', 'даже', 'ну', 'вдруг', '...гда', 'лучше', 'чуть', 'том', 'нельзя', 'такой', 'им', 'более', 'всегда', 'конечно', 'всю', 'между'],\n",
       "        strip_accents=None, sublinear_tf=False,\n",
       "        token_pattern='(?u)\\\\b\\\\w\\\\w+\\\\b',\n",
       "        tokenizer=<function final_tokenizer at 0x7f7df6a2ee18>,\n",
       "        use_idf=True, vocabulary=None)"
      ]
     },
     "execution_count": 31,
     "metadata": {
      "tags": []
     },
     "output_type": "execute_result"
    }
   ],
   "source": [
    "tfidf.fit([i for i in raw_df['text']])"
   ]
  },
  {
   "cell_type": "markdown",
   "metadata": {
    "colab_type": "text",
    "id": "hWwS0LIS85Gc"
   },
   "source": [
    "## Разделим данные на обучающие и тестовые выборки.\n",
    "Разделение будем проводить честно: делим данные отдельно по каждому виду тональности."
   ]
  },
  {
   "cell_type": "code",
   "execution_count": 0,
   "metadata": {
    "colab": {},
    "colab_type": "code",
    "id": "TAWlV8RB84Oq"
   },
   "outputs": [],
   "source": [
    "train = {}\n",
    "test = {}\n",
    "tmp = defaultdict(list)\n",
    "for _, row in raw_df.iterrows():\n",
    "    tmp[row['sentiment']].append(row['text'])\n",
    "for l in tmp:\n",
    "    train[l], test[l] = train_test_split(tmp[l], test_size=0.2, random_state=2019)"
   ]
  },
  {
   "cell_type": "markdown",
   "metadata": {
    "colab_type": "text",
    "id": "gnW5hjpK9sKq"
   },
   "source": [
    "Также, проводим выравнивание количества данных по каждому классу тональности в обучающей выборке."
   ]
  },
  {
   "cell_type": "code",
   "execution_count": 0,
   "metadata": {
    "colab": {},
    "colab_type": "code",
    "id": "vjhvHRCx2Brw"
   },
   "outputs": [],
   "source": [
    "def upsampling_align(some_dict, random_state=2018):\n",
    "    rand = np.random.RandomState(random_state)\n",
    "    upper = max([len(some_dict[l]) for l in some_dict])\n",
    "    print('upper bound: {}'.format(upper))\n",
    "    tmp = {}\n",
    "    for l in some_dict:\n",
    "        if len(some_dict[l]) < upper:\n",
    "            repeat_time = int(upper/len(some_dict[l]))\n",
    "            remainder = upper % len(some_dict[l])\n",
    "            _tmp = some_dict[l].copy()\n",
    "            rand.shuffle(_tmp)\n",
    "            tmp[l] = some_dict[l] * repeat_time + _tmp[:remainder]\n",
    "            rand.shuffle(tmp[l])\n",
    "        else:\n",
    "            tmp[l] = some_dict[l]\n",
    "    return tmp"
   ]
  },
  {
   "cell_type": "code",
   "execution_count": 34,
   "metadata": {
    "colab": {
     "base_uri": "https://localhost:8080/",
     "height": 34
    },
    "colab_type": "code",
    "id": "zBcPCcA22Blk",
    "outputId": "1b024c36-a399-4a69-8f73-8448d2dd1ca3"
   },
   "outputs": [
    {
     "name": "stdout",
     "output_type": "stream",
     "text": [
      "upper bound: 8808\n"
     ]
    }
   ],
   "source": [
    "train_data = upsampling_align(train)"
   ]
  },
  {
   "cell_type": "markdown",
   "metadata": {
    "colab_type": "text",
    "id": "ZIQueDgT-F_F"
   },
   "source": [
    "## Обучение Logistic Regression классификатора с Softmax функцией для мультиклассификации"
   ]
  },
  {
   "cell_type": "code",
   "execution_count": 0,
   "metadata": {
    "colab": {},
    "colab_type": "code",
    "id": "6yZpM5v2aLnF"
   },
   "outputs": [],
   "source": [
    "m_params = {}\n",
    "m_params['solver'] = 'lbfgs'\n",
    "m_params['multi_class'] = 'multinomial'"
   ]
  },
  {
   "cell_type": "code",
   "execution_count": 0,
   "metadata": {
    "colab": {},
    "colab_type": "code",
    "id": "TVSqPayJZSXx"
   },
   "outputs": [],
   "source": [
    "softmax = LogisticRegression(**m_params)"
   ]
  },
  {
   "cell_type": "code",
   "execution_count": 0,
   "metadata": {
    "colab": {},
    "colab_type": "code",
    "id": "6w9cFbf8pVqY"
   },
   "outputs": [],
   "source": [
    "x_train = [j for i in sorted(train_data.keys()) for j in train_data[i]]\n",
    "y_train = [i for i in sorted(train_data.keys()) for j in train_data[i]]\n",
    "x_test = [j for i in sorted(test.keys()) for j in test[i]]\n",
    "y_test = [i for i in sorted(test.keys()) for j in test[i]]"
   ]
  },
  {
   "cell_type": "markdown",
   "metadata": {
    "colab_type": "text",
    "id": "_nOS7G5JFT4S"
   },
   "source": [
    "Пропускаем данные через TF-IDF векторизатор"
   ]
  },
  {
   "cell_type": "code",
   "execution_count": 0,
   "metadata": {
    "colab": {},
    "colab_type": "code",
    "id": "h3zjHwkTt_qf"
   },
   "outputs": [],
   "source": [
    "x_train_tr = tfidf.transform(x_train)\n",
    "x_test_tr = tfidf.transform(x_test)"
   ]
  },
  {
   "cell_type": "code",
   "execution_count": 39,
   "metadata": {
    "colab": {
     "base_uri": "https://localhost:8080/",
     "height": 119
    },
    "colab_type": "code",
    "id": "tKYWIdPwlu7m",
    "outputId": "067b287c-9488-4da7-c338-719e57c4c0d6"
   },
   "outputs": [
    {
     "name": "stderr",
     "output_type": "stream",
     "text": [
      "/usr/local/lib/python3.6/dist-packages/sklearn/linear_model/logistic.py:758: ConvergenceWarning: lbfgs failed to converge. Increase the number of iterations.\n",
      "  \"of iterations.\", ConvergenceWarning)\n"
     ]
    },
    {
     "data": {
      "text/plain": [
       "LogisticRegression(C=1.0, class_weight=None, dual=False, fit_intercept=True,\n",
       "          intercept_scaling=1, max_iter=100, multi_class='multinomial',\n",
       "          n_jobs=None, penalty='l2', random_state=None, solver='lbfgs',\n",
       "          tol=0.0001, verbose=0, warm_start=False)"
      ]
     },
     "execution_count": 39,
     "metadata": {
      "tags": []
     },
     "output_type": "execute_result"
    }
   ],
   "source": [
    "softmax.fit(x_train_tr, y_train)"
   ]
  },
  {
   "cell_type": "markdown",
   "metadata": {
    "colab_type": "text",
    "id": "oPIko6af-xHM"
   },
   "source": [
    "### Оценка модели"
   ]
  },
  {
   "cell_type": "code",
   "execution_count": 0,
   "metadata": {
    "colab": {},
    "colab_type": "code",
    "id": "u4HbQ6FOpVn3"
   },
   "outputs": [],
   "source": [
    "pred = softmax.predict(x_test_tr)"
   ]
  },
  {
   "cell_type": "code",
   "execution_count": 41,
   "metadata": {
    "colab": {
     "base_uri": "https://localhost:8080/",
     "height": 34
    },
    "colab_type": "code",
    "id": "N7la0R5fpVlN",
    "outputId": "31fcd255-8e2e-4686-f2f5-9302e7ca9b80"
   },
   "outputs": [
    {
     "data": {
      "text/plain": [
       "0.6881081081081081"
      ]
     },
     "execution_count": 41,
     "metadata": {
      "tags": []
     },
     "output_type": "execute_result"
    }
   ],
   "source": [
    "accuracy_score(y_test, pred)"
   ]
  },
  {
   "cell_type": "markdown",
   "metadata": {
    "colab_type": "text",
    "id": "9O1-zYMP_NZy"
   },
   "source": [
    "Подробный репорт по оценкам и количество семплов по каждому классу тональности"
   ]
  },
  {
   "cell_type": "code",
   "execution_count": 42,
   "metadata": {
    "colab": {
     "base_uri": "https://localhost:8080/",
     "height": 187
    },
    "colab_type": "code",
    "id": "_46vH6oRpViy",
    "outputId": "5cd439ed-f0f7-4856-d8d1-c5f6a32d4fcb"
   },
   "outputs": [
    {
     "name": "stdout",
     "output_type": "stream",
     "text": [
      "              precision    recall  f1-score   support\n",
      "\n",
      "    negative    0.47368   0.58442   0.52326       539\n",
      "     neutral    0.80258   0.70527   0.75079      2202\n",
      "    positive    0.61636   0.70699   0.65857       959\n",
      "\n",
      "   micro avg    0.68811   0.68811   0.68811      3700\n",
      "   macro avg    0.63088   0.66556   0.64420      3700\n",
      "weighted avg    0.70640   0.68811   0.69374      3700\n",
      "\n"
     ]
    }
   ],
   "source": [
    "lab = LabelEncoder()\n",
    "c_test = lab.fit_transform(y_test)\n",
    "c_pred = lab.transform(pred)\n",
    "print(classification_report(c_test, c_pred, target_names=lab.classes_, digits=5))"
   ]
  },
  {
   "cell_type": "markdown",
   "metadata": {
    "colab_type": "text",
    "id": "DXezw4mdGHbJ"
   },
   "source": [
    "Если судить по тем примерам, которые я встречал в интернете, данный результат весьма хорош для логистической регрессии."
   ]
  },
  {
   "cell_type": "markdown",
   "metadata": {
    "colab_type": "text",
    "id": "KejGkQGiGhSV"
   },
   "source": [
    "Однако, на этом мои возможности моделирования заканчиваются. От части это связано с невысокими техническими параметрами машины, а отчасти с моим непрофессионализмом в данном вопросе.\n",
    "\n",
    "Я попытался применить иные стандартные модели из библиотеки sklearn, а также xgboost. Однако, они не показывали существенного прироста в точности (а то и работали хуже).\n",
    "\n",
    "Также я попытался смоделировать рекурентную нейронную сеть на Keras и обучить ее на векторах созданных при помощи Word2Vec. Результат получился ужасным, модель получалась переобученной, а ее точность даже не достигала результата логистической регрессии."
   ]
  },
  {
   "cell_type": "markdown",
   "metadata": {
    "colab_type": "text",
    "id": "i37imeX6cHY1"
   },
   "source": [
    "# Анализ тональности текста с использованием Keras и Word2Vec\n",
    "# (Опасно! Не открывать!)"
   ]
  },
  {
   "cell_type": "code",
   "execution_count": 43,
   "metadata": {
    "colab": {
     "base_uri": "https://localhost:8080/",
     "height": 34
    },
    "colab_type": "code",
    "id": "YN9BFKbS6lVl",
    "outputId": "efcb47a4-76aa-42e9-c99c-2ecb8ca340b3"
   },
   "outputs": [
    {
     "name": "stderr",
     "output_type": "stream",
     "text": [
      "Using TensorFlow backend.\n"
     ]
    }
   ],
   "source": [
    "import pandas as pd # provide sql-like data manipulation tools. very handy.\n",
    "pd.options.mode.chained_assignment = None\n",
    "import numpy as np # high dimensional vector computing library.\n",
    "from copy import deepcopy\n",
    "from string import punctuation\n",
    "from random import shuffle\n",
    "\n",
    "import gensim\n",
    "from gensim.models.word2vec import Word2Vec # the word2vec model gensim class\n",
    "LabeledSentence = gensim.models.doc2vec.LabeledSentence # we'll talk about this down below\n",
    "\n",
    "from tqdm import tqdm\n",
    "tqdm.pandas(desc=\"progress-bar\")\n",
    "\n",
    "from sklearn.model_selection import train_test_split\n",
    "from sklearn.feature_extraction.text import TfidfVectorizer\n",
    "\n",
    "import keras\n",
    "from keras.datasets import mnist\n",
    "from keras.models import Sequential\n",
    "from keras.layers import Dense, Dropout"
   ]
  },
  {
   "cell_type": "code",
   "execution_count": 0,
   "metadata": {
    "colab": {},
    "colab_type": "code",
    "id": "0tKb8GXZQWQ6"
   },
   "outputs": [],
   "source": [
    "from deeppavlov.models.tokenizers.ru_tokenizer import RussianTokenizer\n",
    "rus_tokenizer = RussianTokenizer(lemmas=True, stopwords=stopwords.words('russian'))"
   ]
  },
  {
   "cell_type": "code",
   "execution_count": 0,
   "metadata": {
    "colab": {},
    "colab_type": "code",
    "id": "T8d_e_i7QWQD"
   },
   "outputs": [],
   "source": [
    "x_train_w = rus_tokenizer(x_train)\n",
    "x_test_w = rus_tokenizer(x_test)"
   ]
  },
  {
   "cell_type": "code",
   "execution_count": 47,
   "metadata": {
    "colab": {
     "base_uri": "https://localhost:8080/",
     "height": 71
    },
    "colab_type": "code",
    "id": "Qs2Vnsp-6lQj",
    "outputId": "b54c457e-1829-4e81-8be6-619281c07a37"
   },
   "outputs": [
    {
     "name": "stderr",
     "output_type": "stream",
     "text": [
      "/usr/local/lib/python3.6/dist-packages/ipykernel_launcher.py:5: DeprecationWarning: Call to deprecated `LabeledSentence` (Class will be removed in 4.0.0, use TaggedDocument instead).\n",
      "  \"\"\"\n"
     ]
    }
   ],
   "source": [
    "def labelizeTexts(strings, label_type):\n",
    "    labelized = []\n",
    "    for i,v in enumerate(strings):\n",
    "        label = '%s_%s'%(label_type,i)\n",
    "        labelized.append(LabeledSentence(v, [label]))\n",
    "    return labelized\n",
    "\n",
    "x_train_l = labelizeTexts(x_train_w, 'TRAIN')\n",
    "x_test_l = labelizeTexts(x_test_w, 'TEST')"
   ]
  },
  {
   "cell_type": "code",
   "execution_count": 48,
   "metadata": {
    "colab": {
     "base_uri": "https://localhost:8080/",
     "height": 34
    },
    "colab_type": "code",
    "id": "67FMSUq76lOL",
    "outputId": "c1a94031-b93d-4d41-f115-e44038559503"
   },
   "outputs": [
    {
     "data": {
      "text/plain": [
       "LabeledSentence(words=['swiss', 'получать', 'шкала', 'интернет', 'борт', 'рубль', 'давать'], tags=['TRAIN_0'])"
      ]
     },
     "execution_count": 48,
     "metadata": {
      "tags": []
     },
     "output_type": "execute_result"
    }
   ],
   "source": [
    "x_train_l[0]"
   ]
  },
  {
   "cell_type": "code",
   "execution_count": 0,
   "metadata": {
    "colab": {},
    "colab_type": "code",
    "id": "wHcaBqkCsukm"
   },
   "outputs": [],
   "source": [
    "n_dim = 200"
   ]
  },
  {
   "cell_type": "code",
   "execution_count": 50,
   "metadata": {
    "colab": {
     "base_uri": "https://localhost:8080/",
     "height": 88
    },
    "colab_type": "code",
    "id": "xTiFGxBwmyWT",
    "outputId": "1290f2b7-f0fe-4afc-c42f-2c10fba6f9a4"
   },
   "outputs": [
    {
     "name": "stderr",
     "output_type": "stream",
     "text": [
      "/usr/local/lib/python3.6/dist-packages/ipykernel_launcher.py:3: DeprecationWarning: Call to deprecated `iter` (Attribute will be removed in 4.0.0, use self.epochs instead).\n",
      "  This is separate from the ipykernel package so we can avoid doing imports until\n"
     ]
    },
    {
     "data": {
      "text/plain": [
       "(1693910, 2181430)"
      ]
     },
     "execution_count": 50,
     "metadata": {
      "tags": []
     },
     "output_type": "execute_result"
    }
   ],
   "source": [
    "w2v_model = Word2Vec(size=n_dim, min_count=10)\n",
    "w2v_model.build_vocab([x.words for x in x_train_l])\n",
    "w2v_model.train([x.words for x in x_train_l], total_examples=w2v_model.corpus_count, epochs=w2v_model.iter)"
   ]
  },
  {
   "cell_type": "code",
   "execution_count": 0,
   "metadata": {
    "colab": {},
    "colab_type": "code",
    "id": "DGEJ0wFqmyQE"
   },
   "outputs": [],
   "source": [
    "# w2v_model.most_similar('плохо')  # результаты схожести весьма ужасны: слова никак не связаны по смыслу. Возможно здесь кроится главная проблема, почему модель не работает\n",
    "                                    # Однако я не нашел способа исправить это"
   ]
  },
  {
   "cell_type": "code",
   "execution_count": 52,
   "metadata": {
    "colab": {
     "base_uri": "https://localhost:8080/",
     "height": 34
    },
    "colab_type": "code",
    "id": "sP-ePV3jmyNW",
    "outputId": "bddac74b-c3bc-4665-d987-60977dce4b92"
   },
   "outputs": [
    {
     "name": "stdout",
     "output_type": "stream",
     "text": [
      "vocab size : 25452\n"
     ]
    }
   ],
   "source": [
    "tfidf_vals = dict(zip(tfidf.get_feature_names(), tfidf.idf_))\n",
    "print('vocab size :', len(tfidf_vals))"
   ]
  },
  {
   "cell_type": "code",
   "execution_count": 0,
   "metadata": {
    "colab": {},
    "colab_type": "code",
    "id": "OOeuTOW3myKX"
   },
   "outputs": [],
   "source": [
    "def buildWordVector(tokens, size):\n",
    "    vec = np.zeros(size).reshape((1, size))\n",
    "    count = 0.\n",
    "    for word in tokens:\n",
    "        try:\n",
    "            vec += w2v_model[word].reshape((1, size)) * tfidf_vals[word]\n",
    "            count += 1.\n",
    "        except KeyError: # handling the case where the token is not\n",
    "                         # in the corpus. useful for testing.\n",
    "            continue\n",
    "    if count != 0:\n",
    "        vec /= count\n",
    "    return vec"
   ]
  },
  {
   "cell_type": "code",
   "execution_count": 54,
   "metadata": {
    "colab": {
     "base_uri": "https://localhost:8080/",
     "height": 105
    },
    "colab_type": "code",
    "id": "Y7GAtfcMnB8x",
    "outputId": "4a9f8188-f039-4c9d-e479-ee9988f64ebe"
   },
   "outputs": [
    {
     "name": "stderr",
     "output_type": "stream",
     "text": [
      "/usr/local/lib/python3.6/dist-packages/ipykernel_launcher.py:6: DeprecationWarning: Call to deprecated `__getitem__` (Method will be removed in 4.0.0, use self.wv.__getitem__() instead).\n",
      "  \n",
      "/usr/local/lib/python3.6/dist-packages/ipykernel_launcher.py:6: DeprecationWarning: Call to deprecated `__getitem__` (Method will be removed in 4.0.0, use self.wv.__getitem__() instead).\n",
      "  \n"
     ]
    }
   ],
   "source": [
    "from sklearn.preprocessing import scale\n",
    "train_vecs_w2v = np.concatenate([buildWordVector(z, n_dim) for z in map(lambda x: x.words, x_train_l)])\n",
    "train_vecs_w2v = scale(train_vecs_w2v)\n",
    "\n",
    "test_vecs_w2v = np.concatenate([buildWordVector(z, n_dim) for z in map(lambda x: x.words, x_test_l)])\n",
    "test_vecs_w2v = scale(test_vecs_w2v)"
   ]
  },
  {
   "cell_type": "code",
   "execution_count": 55,
   "metadata": {
    "colab": {
     "base_uri": "https://localhost:8080/",
     "height": 34
    },
    "colab_type": "code",
    "id": "lpKBgGNwtim3",
    "outputId": "d30c1706-c7b8-40c7-ea93-d6e4f6f51769"
   },
   "outputs": [
    {
     "data": {
      "text/plain": [
       "(26424, 200)"
      ]
     },
     "execution_count": 55,
     "metadata": {
      "tags": []
     },
     "output_type": "execute_result"
    }
   ],
   "source": [
    "train_vecs_w2v.shape"
   ]
  },
  {
   "cell_type": "code",
   "execution_count": 0,
   "metadata": {
    "colab": {},
    "colab_type": "code",
    "id": "RlSlWQwzttqJ"
   },
   "outputs": [],
   "source": [
    "num_classes = 3"
   ]
  },
  {
   "cell_type": "code",
   "execution_count": 0,
   "metadata": {
    "colab": {},
    "colab_type": "code",
    "id": "vKKowEtbuzUX"
   },
   "outputs": [],
   "source": [
    "def sent_to_int(sent):\n",
    "  if sent == \"positive\":\n",
    "    return 2\n",
    "  elif sent == \"neutral\":\n",
    "    return 1\n",
    "  elif sent == \"negative\":\n",
    "    return 0\n",
    "  else:\n",
    "    print(sent)\n",
    "    raise ValueError()"
   ]
  },
  {
   "cell_type": "code",
   "execution_count": 0,
   "metadata": {
    "colab": {},
    "colab_type": "code",
    "id": "_KDVjEuDtUmX"
   },
   "outputs": [],
   "source": [
    "y_train_int = list(map(sent_to_int, y_train))\n",
    "y_test_int = list(map(sent_to_int, y_test))\n",
    "\n",
    "y_train_int = keras.utils.to_categorical(y_train_int, num_classes)\n",
    "y_test_int = keras.utils.to_categorical(y_test_int, num_classes)"
   ]
  },
  {
   "cell_type": "code",
   "execution_count": 59,
   "metadata": {
    "colab": {
     "base_uri": "https://localhost:8080/",
     "height": 887
    },
    "colab_type": "code",
    "id": "zQ6Ok5AAnB6P",
    "outputId": "65f5d0c5-a857-4fc9-a83a-30a159996e73"
   },
   "outputs": [
    {
     "name": "stdout",
     "output_type": "stream",
     "text": [
      "WARNING:tensorflow:From /usr/local/lib/python3.6/dist-packages/tensorflow/python/framework/op_def_library.py:263: colocate_with (from tensorflow.python.framework.ops) is deprecated and will be removed in a future version.\n",
      "Instructions for updating:\n",
      "Colocations handled automatically by placer.\n",
      "WARNING:tensorflow:From /usr/local/lib/python3.6/dist-packages/keras/backend/tensorflow_backend.py:3363: calling dropout (from tensorflow.python.ops.nn_ops) with keep_prob is deprecated and will be removed in a future version.\n",
      "Instructions for updating:\n",
      "Please use `rate` instead of `keep_prob`. Rate should be set to `rate = 1 - keep_prob`.\n",
      "WARNING:tensorflow:From /usr/local/lib/python3.6/dist-packages/tensorflow/python/ops/math_ops.py:3066: to_int32 (from tensorflow.python.ops.math_ops) is deprecated and will be removed in a future version.\n",
      "Instructions for updating:\n",
      "Use tf.cast instead.\n",
      "Epoch 1/20\n",
      " - 5s - loss: 1.2342 - acc: 0.5661\n",
      "Epoch 2/20\n",
      " - 3s - loss: 0.9606 - acc: 0.5733\n",
      "Epoch 3/20\n",
      " - 3s - loss: 0.9548 - acc: 0.5780\n",
      "Epoch 4/20\n",
      " - 3s - loss: 0.9500 - acc: 0.5755\n",
      "Epoch 5/20\n",
      " - 3s - loss: 0.9495 - acc: 0.5768\n",
      "Epoch 6/20\n",
      " - 3s - loss: 0.9443 - acc: 0.5793\n",
      "Epoch 7/20\n",
      " - 3s - loss: 0.9429 - acc: 0.5783\n",
      "Epoch 8/20\n",
      " - 3s - loss: 0.9433 - acc: 0.5791\n",
      "Epoch 9/20\n",
      " - 3s - loss: 0.9419 - acc: 0.5795\n",
      "Epoch 10/20\n",
      " - 3s - loss: 0.9431 - acc: 0.5786\n",
      "Epoch 11/20\n",
      " - 3s - loss: 0.9420 - acc: 0.5808\n",
      "Epoch 12/20\n",
      " - 3s - loss: 0.9413 - acc: 0.5794\n",
      "Epoch 13/20\n",
      " - 3s - loss: 0.9411 - acc: 0.5809\n",
      "Epoch 14/20\n",
      " - 3s - loss: 0.9399 - acc: 0.5781\n",
      "Epoch 15/20\n",
      " - 3s - loss: 0.9392 - acc: 0.5789\n",
      "Epoch 16/20\n",
      " - 3s - loss: 0.9393 - acc: 0.5802\n",
      "Epoch 17/20\n",
      " - 3s - loss: 0.9375 - acc: 0.5795\n",
      "Epoch 18/20\n",
      " - 3s - loss: 0.9386 - acc: 0.5801\n",
      "Epoch 19/20\n",
      " - 3s - loss: 0.9393 - acc: 0.5806\n",
      "Epoch 20/20\n",
      " - 3s - loss: 0.9382 - acc: 0.5802\n"
     ]
    },
    {
     "data": {
      "text/plain": [
       "<keras.callbacks.History at 0x7f7dd293d198>"
      ]
     },
     "execution_count": 59,
     "metadata": {
      "tags": []
     },
     "output_type": "execute_result"
    }
   ],
   "source": [
    "from keras import regularizers\n",
    "\n",
    "model = Sequential()\n",
    "model.add(Dense(100, activation='relu', input_dim=n_dim, kernel_regularizer=regularizers.l2(0.01)))\n",
    "model.add(Dropout(0.2))\n",
    "model.add(Dense(100, activation='relu', kernel_regularizer=regularizers.l2(0.01)))\n",
    "model.add(Dense(3, activation='softmax'))\n",
    "model.compile(optimizer='rmsprop',\n",
    "              loss='categorical_crossentropy',\n",
    "              metrics=['accuracy'])\n",
    "\n",
    "model.fit(train_vecs_w2v, y_train_int, epochs=20, batch_size=10, verbose=2)"
   ]
  },
  {
   "cell_type": "code",
   "execution_count": 60,
   "metadata": {
    "colab": {
     "base_uri": "https://localhost:8080/",
     "height": 34
    },
    "colab_type": "code",
    "id": "tYuMXXI7Pw7I",
    "outputId": "70168010-410d-414a-8c89-5e5fdf958dde"
   },
   "outputs": [
    {
     "data": {
      "text/plain": [
       "0.5437837882823235"
      ]
     },
     "execution_count": 60,
     "metadata": {
      "tags": []
     },
     "output_type": "execute_result"
    }
   ],
   "source": [
    "score = model.evaluate(test_vecs_w2v, y_test_int, batch_size=10, verbose=2)\n",
    "score[1]"
   ]
  },
  {
   "cell_type": "markdown",
   "metadata": {
    "colab_type": "text",
    "id": "DX7OdFbIpWw7"
   },
   "source": [
    "## Использованные ресурсы\n",
    "- Сайт Национальный корпуса русского языка: http://ruscorpora.ru/index.html\n",
    "- Emoji pattern: https://stackoverflow.com/a/54313085\n",
    "- Stuck words splitter: https://nbviewer.jupyter.org/url/norvig.com/ipython/How%20to%20Do%20Things%20with%20Words.ipynb#(5)-Task:-Word-Segmentation\n",
    "- Keras Documentation: https://keras.io/\n",
    "- Sentiment analysis on Twitter using word2vec and keras: https://ahmedbesbes.com/sentiment-analysis-on-twitter-using-word2vec-and-keras.html\n",
    "- Micro-Macro Precision,Recall and F-Score: https://medium.com/@ramit.singh.pahwa/micro-macro-precision-recall-and-f-score-44439de1a044"
   ]
  }
 ],
 "metadata": {
  "colab": {
   "collapsed_sections": [
    "5t2a_JiYjBqc",
    "34zbfzyyjUmt",
    "We7KM4F72Cxn"
   ],
   "name": "InnoData.ipynb",
   "provenance": [],
   "toc_visible": true,
   "version": "0.3.2"
  },
  "kernelspec": {
   "display_name": "Python 3",
   "language": "python",
   "name": "python3"
  },
  "language_info": {
   "codemirror_mode": {
    "name": "ipython",
    "version": 3
   },
   "file_extension": ".py",
   "mimetype": "text/x-python",
   "name": "python",
   "nbconvert_exporter": "python",
   "pygments_lexer": "ipython3",
   "version": "3.6.8"
  }
 },
 "nbformat": 4,
 "nbformat_minor": 1
}
